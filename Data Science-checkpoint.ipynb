{
 "cells": [
  {
   "cell_type": "code",
   "execution_count": 1,
   "id": "e133e948",
   "metadata": {},
   "outputs": [
    {
     "name": "stdout",
     "output_type": "stream",
     "text": [
      "what is the name of your pet Paco\n",
      "where are you from? Colombia\n",
      "what is your name Matias\n",
      "what do you want to divide? 3000\n",
      "by how much do you wish to divide the previous number? 3\n",
      "what do you want to divide? 1\n",
      "by how much do you wish to divide the previous number? 3\n",
      "what do you want to divide? 4\n",
      "by how much do you wish to divide the previous number? 24\n",
      "hello Matias\n",
      "I hope I can one day visit Colombia\n",
      "Paco That is such a cute name for a pet \n",
      "1000.0\n",
      "0.3333333333333333\n",
      "0.16666666666666666\n"
     ]
    }
   ],
   "source": [
    "###string inputs\n",
    "pet = input(\"what is the name of your pet \", )\n",
    "country = input(\"where are you from? \", )\n",
    "name = input(\"what is your name \", )\n",
    "\n",
    "###number inputs for divisions\n",
    "number1= int(input(\"what do you want to divide? \"))\n",
    "number2 = int(input(\"by how much do you wish to divide the previous number? \"))\n",
    "number3= int(input(\"what do you want to divide? \"))\n",
    "number4 = int(input(\"by how much do you wish to divide the previous number? \"))\n",
    "number5= int(input(\"what do you want to divide? \"))\n",
    "number6 = int(input(\"by how much do you wish to divide the previous number? \"))\n",
    "\n",
    "###functions with return\n",
    "def divide(x, y):\n",
    "    return x/y\n",
    "\n",
    "def greet(x): \n",
    "    return x \n",
    "\n",
    "###printing my actual inputs\n",
    "print(greet(\"hello \" + name))\n",
    "print(greet(\"I hope I can one day visit \" + country))\n",
    "print(greet(pet + \" That is such a cute name for a pet \"))\n",
    "\n",
    "print(divide(number1, number2))\n",
    "print(divide(number3, number4))\n",
    "print(divide(number5, number6))"
   ]
  },
  {
   "cell_type": "code",
   "execution_count": null,
   "id": "575da735",
   "metadata": {},
   "outputs": [],
   "source": []
  },
  {
   "cell_type": "code",
   "execution_count": null,
   "id": "e1d16a19",
   "metadata": {},
   "outputs": [],
   "source": []
  },
  {
   "cell_type": "code",
   "execution_count": null,
   "id": "34d55ca3",
   "metadata": {},
   "outputs": [],
   "source": []
  },
  {
   "cell_type": "code",
   "execution_count": null,
   "id": "e5377154",
   "metadata": {},
   "outputs": [],
   "source": []
  },
  {
   "cell_type": "code",
   "execution_count": null,
   "id": "fcea41f5",
   "metadata": {},
   "outputs": [],
   "source": []
  }
 ],
 "metadata": {
  "kernelspec": {
   "display_name": "Python 3 (ipykernel)",
   "language": "python",
   "name": "python3"
  },
  "language_info": {
   "codemirror_mode": {
    "name": "ipython",
    "version": 3
   },
   "file_extension": ".py",
   "mimetype": "text/x-python",
   "name": "python",
   "nbconvert_exporter": "python",
   "pygments_lexer": "ipython3",
   "version": "3.9.12"
  }
 },
 "nbformat": 4,
 "nbformat_minor": 5
}
